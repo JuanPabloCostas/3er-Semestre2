{
 "cells": [
  {
   "cell_type": "code",
   "execution_count": 1,
   "metadata": {},
   "outputs": [
    {
     "name": "stdout",
     "output_type": "stream",
     "text": [
      "Edge: 4 7 - 1\n",
      "Edge: 0 1 - 2\n",
      "Edge: 1 2 - 2\n",
      "Edge: 3 4 - 2\n",
      "Edge: 4 5 - 2\n",
      "Edge: 0 3 - 3\n",
      "Edge: 3 6 - 3\n",
      "Edge: 5 8 - 3\n"
     ]
    }
   ],
   "source": [
    "class Graph:\n",
    "    def __init__(self, vertex):\n",
    "        self.V = vertex\n",
    "        self.graph = []\n",
    " \n",
    "    def add_edge(self, u, v, w):\n",
    "        self.graph.append([u, v, w])\n",
    " \n",
    " \n",
    "    def search(self, parent, i):\n",
    "        if parent[i] == i:\n",
    "            return i\n",
    "        return self.search(parent, parent[i])\n",
    " \n",
    "    def apply_union(self, parent, rank, x, y):\n",
    "        xroot = self.search(parent, x)\n",
    "        yroot = self.search(parent, y)\n",
    "        if rank[xroot] < rank[yroot]:\n",
    "            parent[xroot] = yroot\n",
    "        elif rank[xroot] > rank[yroot]:\n",
    "            parent[yroot] = xroot\n",
    "        else:\n",
    "            parent[yroot] = xroot\n",
    "            rank[xroot] += 1\n",
    " \n",
    "  \n",
    "    def kruskal(self):\n",
    "        result = []\n",
    "        i, e = 0, 0\n",
    "        self.graph = sorted(self.graph, key=lambda item: item[2])\n",
    "        parent = []\n",
    "        rank = []\n",
    "        for node in range(self.V):\n",
    "            parent.append(node)\n",
    "            rank.append(0)\n",
    "        while e < self.V - 1:\n",
    "            u, v, w = self.graph[i]\n",
    "            i = i + 1\n",
    "            x = self.search(parent, u)\n",
    "            y = self.search(parent, v)\n",
    "            if x != y:\n",
    "                e = e + 1\n",
    "                result.append([u, v, w])\n",
    "                self.apply_union(parent, rank, x, y)\n",
    "        for u, v, weight in result:\n",
    "            print(\"Edge:\",u, v,end =\" \")\n",
    "            print(\"-\",weight)\n",
    " \n",
    " \n",
    "g = Graph(9)\n",
    "g.add_edge(0, 1, 2)\n",
    "g.add_edge(0, 3, 3)\n",
    "g.add_edge(0, 4, 3)\n",
    "g.add_edge(1, 2, 2)\n",
    "g.add_edge(1, 4, 3)\n",
    "g.add_edge(1, 5, 3)\n",
    "g.add_edge(2, 5, 3)\n",
    "g.add_edge(3, 4, 2)\n",
    "g.add_edge(3, 6, 3)\n",
    "g.add_edge(3, 7, 5)\n",
    "g.add_edge(4, 5, 2)\n",
    "g.add_edge(4, 7, 1)\n",
    "g.add_edge(4, 8, 4)\n",
    "g.add_edge(5, 8, 3)\n",
    "g.add_edge(6, 7, 3)\n",
    "g.add_edge(7, 8, 3)\n",
    "g.kruskal()"
   ]
  },
  {
   "cell_type": "code",
   "execution_count": 8,
   "metadata": {},
   "outputs": [
    {
     "name": "stdout",
     "output_type": "stream",
     "text": [
      "Edge : Weight\n",
      "\n",
      "0-1:2\n",
      "1-2:2\n",
      "0-3:3\n",
      "3-4:2\n",
      "4-7:1\n",
      "4-5:2\n",
      "3-6:3\n",
      "5-8:3\n"
     ]
    }
   ],
   "source": [
    "# Prim's Algorithm in Python\n",
    "\n",
    "INF = 9999999\n",
    "# number of vertices in graph\n",
    "N = 9\n",
    "#creating graph by adjacency matrix method\n",
    "G = [[0, 2, 0, 3, 3, 0, 0, 8, 0],\n",
    "\t\t[2, 0, 2, 0, 3, 3, 0, 0, 0],\n",
    "\t\t[0, 2, 0, 0, 0, 3, 0, 0, 0],\n",
    "\t\t[3, 0, 0, 0, 2, 0, 3, 5, 0],\n",
    "\t\t[3, 3, 0, 2, 0, 2, 0, 1, 4],\n",
    "\t\t[0, 3, 3, 0, 2, 0, 0, 0, 3],\n",
    "\t\t[0, 0, 0, 3, 0, 0, 0, 3, 0],\n",
    "\t\t[0, 0, 0, 5, 1, 0, 3, 0, 3],\n",
    "\t\t[0, 0, 0, 0, 4, 3, 0, 3, 0]]\n",
    "\n",
    "selected_node = [0, 0, 0, 0, 0,0,0,0,0]\n",
    "\n",
    "no_edge = 0\n",
    "\n",
    "selected_node[0] = True\n",
    "\n",
    "# printing for edge and weight\n",
    "print(\"Edge : Weight\\n\")\n",
    "while (no_edge < N - 1):\n",
    "    \n",
    "    minimum = INF\n",
    "    a = 0\n",
    "    b = 0\n",
    "    for m in range(N):\n",
    "        if selected_node[m]:\n",
    "            for n in range(N):\n",
    "                if ((not selected_node[n]) and G[m][n]):  \n",
    "                    # not in selected and there is an edge\n",
    "                    if minimum > G[m][n]:\n",
    "                        minimum = G[m][n]\n",
    "                        a = m\n",
    "                        b = n\n",
    "    print(str(a) + \"-\" + str(b) + \":\" + str(G[a][b]))\n",
    "    selected_node[b] = True\n",
    "    no_edge += 1"
   ]
  }
 ],
 "metadata": {
  "kernelspec": {
   "display_name": "Python 3",
   "language": "python",
   "name": "python3"
  },
  "language_info": {
   "codemirror_mode": {
    "name": "ipython",
    "version": 3
   },
   "file_extension": ".py",
   "mimetype": "text/x-python",
   "name": "python",
   "nbconvert_exporter": "python",
   "pygments_lexer": "ipython3",
   "version": "3.11.0"
  },
  "orig_nbformat": 4,
  "vscode": {
   "interpreter": {
    "hash": "af3d4cc01af43321cd89deb2dfbbc942df4a30434e98f7408467ce15efc847e4"
   }
  }
 },
 "nbformat": 4,
 "nbformat_minor": 2
}
